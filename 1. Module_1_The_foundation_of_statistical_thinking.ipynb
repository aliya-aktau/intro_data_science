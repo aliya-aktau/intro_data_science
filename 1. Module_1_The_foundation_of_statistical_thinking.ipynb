{
 "cells": [
  {
   "cell_type": "markdown",
   "metadata": {},
   "source": [
    "# CS21: Introduction to Data Science"
   ]
  },
  {
   "cell_type": "markdown",
   "metadata": {},
   "source": [
    "<a href=\"https://codeesa.kiu.ac.ug/dish.php\">\n",
    "    <img src=\"https://codeesa.kiu.ac.ug/images/logos/DISH%20Logo(3).png\" width=\"300\" align=\"left\">\n",
    "</a>"
   ]
  },
  {
   "cell_type": "markdown",
   "metadata": {},
   "source": [
    "# Module 1: The foundation of statistical thinking"
   ]
  },
  {
   "cell_type": "markdown",
   "metadata": {},
   "source": [
    "### Table of Contents\n",
    "\n",
    "* [0. Maximum and Minimum](#maxmin)\n",
    "* [1. Mean](#mean)\n",
    "* [2. Median](#median)\n",
    "* [3. Measure of partition](#measure_part)\n",
    "    * [3.1 Percentiles](#perc)\n",
    "    * [3.2 Quartiles](#quartiles)\n",
    "        * [3.2.1 Box Plots](#box)\n",
    "* [4. Measure of spread](#measure_spread)\n",
    "    * [4.1 Variance](#variance)\n",
    "    * [4.2 Standard deviation](#std)\n"
   ]
  },
  {
   "cell_type": "markdown",
   "metadata": {},
   "source": [
    "### Resources and python packages used in this lesson"
   ]
  },
  {
   "cell_type": "code",
   "execution_count": null,
   "metadata": {},
   "outputs": [],
   "source": [
    "### Measure of central tendency \n",
    "Measure of spread: deviation, variance, range\n",
    "Measure of partition: quartiles, percentiles, deciles"
   ]
  },
  {
   "cell_type": "code",
   "execution_count": 44,
   "metadata": {},
   "outputs": [],
   "source": [
    "import numpy as np\n",
    "import matplotlib.pyplot as plt\n",
    "\n",
    "%matplotlib inline"
   ]
  },
  {
   "cell_type": "code",
   "execution_count": null,
   "metadata": {},
   "outputs": [],
   "source": [
    "0. Maximum and minimum"
   ]
  },
  {
   "cell_type": "markdown",
   "metadata": {},
   "source": [
    "### 1. Mean  <a class=\"anchor\" id=\"mean\"></a>"
   ]
  },
  {
   "cell_type": "markdown",
   "metadata": {},
   "source": [
    "The arithmetic mean is the sum of the elements divided by the number of elements."
   ]
  },
  {
   "cell_type": "markdown",
   "metadata": {},
   "source": [
    "<img src=\"images/mean.png\">"
   ]
  },
  {
   "cell_type": "code",
   "execution_count": 10,
   "metadata": {},
   "outputs": [
    {
     "data": {
      "text/plain": [
       "8.5"
      ]
     },
     "execution_count": 10,
     "metadata": {},
     "output_type": "execute_result"
    }
   ],
   "source": [
    "list_num = [5, 7, 8, 9, 10, 12]\n",
    "a = np.array(list_num)\n",
    "np.mean(a)"
   ]
  },
  {
   "cell_type": "code",
   "execution_count": 15,
   "metadata": {},
   "outputs": [
    {
     "data": {
      "text/plain": [
       "3.1666666666666665"
      ]
     },
     "execution_count": 15,
     "metadata": {},
     "output_type": "execute_result"
    }
   ],
   "source": [
    "# Negative\n",
    "list_num = [-2, -4, 7, 10, -17, 25]\n",
    "a = np.array(list_num)\n",
    "np.mean(a)"
   ]
  },
  {
   "cell_type": "code",
   "execution_count": 21,
   "metadata": {},
   "outputs": [
    {
     "data": {
      "text/plain": [
       "6.5"
      ]
     },
     "execution_count": 21,
     "metadata": {},
     "output_type": "execute_result"
    }
   ],
   "source": [
    "# 2D array\n",
    "list_num_2d = [[4, 5], [7, 10]]\n",
    "a = np.array(list_num_2d)\n",
    "np.mean(a)"
   ]
  },
  {
   "cell_type": "code",
   "execution_count": 22,
   "metadata": {},
   "outputs": [
    {
     "data": {
      "text/plain": [
       "array([5.5, 7.5])"
      ]
     },
     "execution_count": 22,
     "metadata": {},
     "output_type": "execute_result"
    }
   ],
   "source": [
    "a = np.array(list_num_2d)\n",
    "np.mean(a, axis=0)"
   ]
  },
  {
   "cell_type": "code",
   "execution_count": 23,
   "metadata": {},
   "outputs": [
    {
     "data": {
      "text/plain": [
       "array([4.5, 8.5])"
      ]
     },
     "execution_count": 23,
     "metadata": {},
     "output_type": "execute_result"
    }
   ],
   "source": [
    "a = np.array(list_num_2d)\n",
    "np.mean(a, axis=1)"
   ]
  },
  {
   "cell_type": "markdown",
   "metadata": {},
   "source": [
    "### 2. Median <a class=\"anchor\" id=\"median\"></a>"
   ]
  },
  {
   "cell_type": "markdown",
   "metadata": {},
   "source": [
    "The Median is the \"middle\" of a sorted list of numbers"
   ]
  },
  {
   "cell_type": "markdown",
   "metadata": {},
   "source": [
    "<b>Example:</b><br>\n",
    "List of numbers:<br>\n",
    "4, 17, 5, 9, 20, 1, 3, 19 \n",
    "\n",
    "Sorted:<br>\n",
    "1, 3, 4, 5, 9, 17, 19, 20\n",
    "\n",
    "If the length of the list is even. Then, median is sum of middle two numbers divided by 2:<br>\n",
    "1, 3, 4, <b>5, 9,</b> 17, 19, 20\n",
    "\n",
    "<b>median</b> = (5+9) / 2 = 7\n",
    "\n",
    "If the length of the list odd. Then, median is number in the middle:<br>\n",
    "1, 3, 4, 5,<b> 9,</b> 17, 19, 20, 25\n",
    "<b>median</b> = 9"
   ]
  },
  {
   "cell_type": "code",
   "execution_count": 28,
   "metadata": {},
   "outputs": [
    {
     "data": {
      "text/plain": [
       "9.0"
      ]
     },
     "execution_count": 28,
     "metadata": {},
     "output_type": "execute_result"
    }
   ],
   "source": [
    "# Even\n",
    "list_num = [5, 7, 8, 10, 12, 15]\n",
    "a = np.array(list_num)\n",
    "np.median(a)"
   ]
  },
  {
   "cell_type": "code",
   "execution_count": null,
   "metadata": {},
   "outputs": [],
   "source": [
    "# Odd\n",
    "list_num = [5, 7, 8, 10, 12, 15]\n",
    "a = np.array(list_num)\n",
    "np.median(a)"
   ]
  },
  {
   "cell_type": "code",
   "execution_count": 29,
   "metadata": {},
   "outputs": [
    {
     "data": {
      "text/plain": [
       "14.0"
      ]
     },
     "execution_count": 29,
     "metadata": {},
     "output_type": "execute_result"
    }
   ],
   "source": [
    "# Not sorted even\n",
    "list_num = [15, 7, 18, 21, 13, 5]\n",
    "a = np.array(list_num)\n",
    "np.median(a)"
   ]
  },
  {
   "cell_type": "code",
   "execution_count": 30,
   "metadata": {},
   "outputs": [
    {
     "data": {
      "text/plain": [
       "13.0"
      ]
     },
     "execution_count": 30,
     "metadata": {},
     "output_type": "execute_result"
    }
   ],
   "source": [
    "# Not sorted odd\n",
    "list_num = [15, 7, 18, 21, 13, 5, 3]\n",
    "a = np.array(list_num)\n",
    "np.median(a)"
   ]
  },
  {
   "cell_type": "markdown",
   "metadata": {},
   "source": [
    "### 3. Measure of partition <a class=\"anchor\" id=\"measure_part\"></a>"
   ]
  },
  {
   "cell_type": "markdown",
   "metadata": {},
   "source": [
    "### 3.1 Percentiles <a class=\"anchor\" id=\"perc\"></a>"
   ]
  },
  {
   "cell_type": "markdown",
   "metadata": {},
   "source": [
    "The Percentile is the values below certain percentage of data.<br>\n",
    "\n",
    "<b>Example:</b><br>\n",
    "Consider situation that you have list of colleagues ages (sorted): <br>\n",
    " 22, 23, 24, 24, 25, 35, 41, 43, 45, 50 <br>\n",
    "\n",
    "In total, there are 10 person. We can take 10 as 100 percent. Then, if we say that we know Ben's age is 43, and he is 8'th in list. It means that 80 percent of colleagues are younger than him. "
   ]
  },
  {
   "cell_type": "code",
   "execution_count": 34,
   "metadata": {},
   "outputs": [
    {
     "name": "stdout",
     "output_type": "stream",
     "text": [
      "[22.225 24.    30.    42.5   48.875]\n"
     ]
    }
   ],
   "source": [
    "# We would like to know the results for different percentiles\n",
    "percentiles = np.array([2.5, 25, 50, 75, 97.5])\n",
    "\n",
    "# List of ages\n",
    "list_of_ages = [22, 23, 24, 24, 25, 35, 41, 43, 45, 50 ]\n",
    "ptiles_ages = np.percentile(list_of_ages, percentiles)\n",
    "\n",
    "# Print the result\n",
    "print(ptiles_ages)"
   ]
  },
  {
   "cell_type": "markdown",
   "metadata": {},
   "source": [
    "### 3.1 Quartiles <a class=\"anchor\" id=\"quartiles\"></a>"
   ]
  },
  {
   "cell_type": "markdown",
   "metadata": {},
   "source": [
    "The Quartiles are divisions of data by 25%, so: <br>\n",
    "\n",
    "Quartile 1 (Q1) can be called the <b>25th</b> percentile <br>\n",
    "Quartile 2 (Q2) can be called the <b>50th</b> percentile <br>\n",
    "Quartile 3 (Q3) can be called the <b>75th</b> percentile<br>"
   ]
  },
  {
   "cell_type": "markdown",
   "metadata": {},
   "source": [
    "<img src=\"images/percentile.png\" longdesc=\"src: https://online.stat.psu.edu/public/stat800/lesson04/500%20l1%2025th%20and%2075th%20percentile.png\">"
   ]
  },
  {
   "cell_type": "code",
   "execution_count": 42,
   "metadata": {},
   "outputs": [],
   "source": [
    "# Fill the list with heights of students. Length of list has to be at least 10\n",
    "list_of_height = []\n",
    "# Create list for the Q1, Q3, Q3\n",
    "\n",
    "# Compute the quartiles\n",
    "\n",
    "# Print the results\n"
   ]
  },
  {
   "cell_type": "markdown",
   "metadata": {},
   "source": [
    "### 3.2.1 Box plots <a class=\"anchor\" id=\"box\"></a>"
   ]
  },
  {
   "cell_type": "markdown",
   "metadata": {},
   "source": [
    "Box Plot is plot used to show the summary of the data with properties like minimum, Q1, median (Q2), Q3 and maximum."
   ]
  },
  {
   "cell_type": "code",
   "execution_count": 46,
   "metadata": {},
   "outputs": [
    {
     "data": {
      "image/png": "[encoded data removed]",
      "text/plain": [
       "<Figure size 720x504 with 1 Axes>"
      ]
     },
     "metadata": {
      "needs_background": "light"
     },
     "output_type": "display_data"
    }
   ],
   "source": [
    "fig = plt.figure(figsize =(10, 7)) \n",
    "  \n",
    "# Creating plot \n",
    "plt.boxplot(list_of_ages) \n",
    "  \n",
    "# show plot \n",
    "plt.show() "
   ]
  },
  {
   "cell_type": "code",
   "execution_count": null,
   "metadata": {},
   "outputs": [],
   "source": [
    "# Create box plot for the list of height"
   ]
  },
  {
   "cell_type": "markdown",
   "metadata": {},
   "source": [
    "### 4. Measure of spread  <a class=\"anchor\" id=\"measure_spread\"></a>"
   ]
  },
  {
   "cell_type": "markdown",
   "metadata": {},
   "source": [
    "### 4.1 Variance <a class=\"anchor\" id=\"variance\"></a>"
   ]
  },
  {
   "cell_type": "markdown",
   "metadata": {},
   "source": [
    "The <b>variance</b> is a statistical measurement of the spread of data. Specifically, variance measures how far each number from the mean and thus from every other number in the set, and it often uses the symbol: σ^2. Mathematically, it is the mean squared distance of values from their mean. "
   ]
  },
  {
   "cell_type": "markdown",
   "metadata": {},
   "source": [
    "<img src=\"images/variance.png\" >"
   ]
  },
  {
   "cell_type": "markdown",
   "metadata": {},
   "source": [
    "<img src=\"images/giraffe_variance.jpg\" longdesc='src: https://tinystats.github.io/teacups-giraffes-and-statistics/images/04_variance/giraffe_variance1.jpg'>"
   ]
  },
  {
   "cell_type": "code",
   "execution_count": 69,
   "metadata": {},
   "outputs": [
    {
     "name": "stdout",
     "output_type": "stream",
     "text": [
      "1075.138888888889\n"
     ]
    }
   ],
   "source": [
    "list_of_heights = np.array([113, 146.5, 132, 70.5, 121, 55])\n",
    "deviation = list_of_heights - np.mean(list_of_heights)\n",
    "variance = np.sum(deviation**2) / len(list_of_heights)\n",
    "print(var)"
   ]
  },
  {
   "cell_type": "code",
   "execution_count": null,
   "metadata": {},
   "outputs": [],
   "source": [
    "# Or we can use np.var() function\n",
    "variance = np.var(list_of_heights)"
   ]
  },
  {
   "cell_type": "markdown",
   "metadata": {},
   "source": [
    "However, we see that it does not have the same units of heights. It is strange. Therefore, we introducing concept of standard deviation"
   ]
  },
  {
   "cell_type": "markdown",
   "metadata": {},
   "source": [
    "### 4.2 Standard deviation <a class=\"anchor\" id=\"std\"></a>"
   ]
  },
  {
   "cell_type": "markdown",
   "metadata": {},
   "source": [
    "The <b>standard deviation </b> is square of variance"
   ]
  },
  {
   "cell_type": "markdown",
   "metadata": {},
   "source": [
    "<img src=\"images/std.png\">"
   ]
  },
  {
   "cell_type": "code",
   "execution_count": 71,
   "metadata": {},
   "outputs": [
    {
     "name": "stdout",
     "output_type": "stream",
     "text": [
      "32.78931058880148\n"
     ]
    }
   ],
   "source": [
    "std = np.sqrt(variance)\n",
    "print(std)"
   ]
  },
  {
   "cell_type": "code",
   "execution_count": 70,
   "metadata": {},
   "outputs": [
    {
     "name": "stdout",
     "output_type": "stream",
     "text": [
      "32.78931058880148\n"
     ]
    }
   ],
   "source": [
    "# or we can use function np.std()\n",
    "std = np.std(list_of_heights)\n",
    "print(std)"
   ]
  },
  {
   "cell_type": "markdown",
   "metadata": {},
   "source": [
    "<img src=\"images/giraffe_std.jpg\" longdesc=\"src: https://tinystats.github.io/teacups-giraffes-and-statistics/images/04_variance/giraffe_variance3.jpg\">"
   ]
  },
  {
   "cell_type": "code",
   "execution_count": null,
   "metadata": {},
   "outputs": [],
   "source": []
  }
 ],
 "metadata": {
  "anaconda-cloud": {},
  "kernelspec": {
   "display_name": "Python 3",
   "language": "python",
   "name": "python3"
  },
  "language_info": {
   "codemirror_mode": {
    "name": "ipython",
    "version": 3
   },
   "file_extension": ".py",
   "mimetype": "text/x-python",
   "name": "python",
   "nbconvert_exporter": "python",
   "pygments_lexer": "ipython3",
   "version": "3.8.5"
  }
 },
 "nbformat": 4,
 "nbformat_minor": 2
}
